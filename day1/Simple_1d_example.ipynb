{
 "cells": [
  {
   "cell_type": "markdown",
   "metadata": {},
   "source": [
    "## A simple 1 -dimensional example to infer hyper parameters with selection effects:"
   ]
  },
  {
   "cell_type": "code",
   "execution_count": 26,
   "metadata": {},
   "outputs": [],
   "source": [
    "import numpy as np\n",
    "import matplotlib.pyplot as plt\n",
    "from scipy.special import erf"
   ]
  },
  {
   "cell_type": "markdown",
   "metadata": {},
   "source": [
    "### True value of hyper parameter"
   ]
  },
  {
   "cell_type": "code",
   "execution_count": 15,
   "metadata": {},
   "outputs": [],
   "source": [
    "mu_lambda_T = 4.3 # in meters\n",
    "sigma_lambda = 2 # in meters\n",
    "x_max = 5 # in meters"
   ]
  },
  {
   "cell_type": "markdown",
   "metadata": {},
   "source": [
    "### Generating true positions of speakers that will be playing:"
   ]
  },
  {
   "cell_type": "code",
   "execution_count": 165,
   "metadata": {},
   "outputs": [],
   "source": [
    "N = 1000\n",
    "x_T = np.random.normal(mu_lambda_T, sigma_lambda, N)"
   ]
  },
  {
   "cell_type": "code",
   "execution_count": 166,
   "metadata": {},
   "outputs": [
    {
     "data": {
      "image/png": "[encoded data removed]",
      "text/plain": [
       "<Figure size 432x288 with 1 Axes>"
      ]
     },
     "metadata": {
      "needs_background": "light"
     },
     "output_type": "display_data"
    }
   ],
   "source": [
    "plt.hist(x_T, bins=50)\n",
    "plt.xlabel('$x$[meters]')\n",
    "plt.show()"
   ]
  },
  {
   "cell_type": "markdown",
   "metadata": {},
   "source": [
    "### Generating noise (with zero mean and unit variance) and data:"
   ]
  },
  {
   "cell_type": "code",
   "execution_count": 167,
   "metadata": {},
   "outputs": [],
   "source": [
    "noise = np.random.normal(0, 1, N)\n",
    "data = x_T + noise"
   ]
  },
  {
   "cell_type": "code",
   "execution_count": 168,
   "metadata": {},
   "outputs": [
    {
     "data": {
      "image/png": "[encoded data removed]",
      "text/plain": [
       "<Figure size 432x288 with 1 Axes>"
      ]
     },
     "metadata": {
      "needs_background": "light"
     },
     "output_type": "display_data"
    }
   ],
   "source": [
    "plt.hist(data, bins=50)\n",
    "plt.xlabel('d[meters]')\n",
    "plt.show()"
   ]
  },
  {
   "cell_type": "markdown",
   "metadata": {},
   "source": [
    "#### Apply the selection effects i.e. only retain the data that satisfy the detection criteria: $d_i < x_{\\mathrm{max}}$"
   ]
  },
  {
   "cell_type": "code",
   "execution_count": 169,
   "metadata": {},
   "outputs": [
    {
     "data": {
      "text/plain": [
       "608"
      ]
     },
     "execution_count": 169,
     "metadata": {},
     "output_type": "execute_result"
    }
   ],
   "source": [
    "selection_idx = data < x_max\n",
    "xi = data[selection_idx]\n",
    "N_tr = len(xi)\n",
    "N_tr"
   ]
  },
  {
   "cell_type": "code",
   "execution_count": 170,
   "metadata": {},
   "outputs": [
    {
     "data": {
      "image/png": "[encoded data removed]",
      "text/plain": [
       "<Figure size 432x288 with 1 Axes>"
      ]
     },
     "metadata": {
      "needs_background": "light"
     },
     "output_type": "display_data"
    }
   ],
   "source": [
    "plt.hist(xi, bins=50)\n",
    "plt.xlabel(r\"$\\xi$[meters]\")\n",
    "plt.show()"
   ]
  },
  {
   "cell_type": "markdown",
   "metadata": {},
   "source": [
    "### Estimating selection effects:\n",
    "\n",
    "$$ \\alpha(\\mu_\\lambda) = \\int dx \\pi(x|\\mu_\\lambda) p(\\rho_{\\uparrow}|x)$$"
   ]
  },
  {
   "cell_type": "code",
   "execution_count": 171,
   "metadata": {},
   "outputs": [],
   "source": [
    "def prior_x(x, mu, sigma):\n",
    "    return np.exp(-(x - mu)**2 / (2*sigma**2)) / (np.sqrt(2 * np.pi * sigma**2))"
   ]
  },
  {
   "cell_type": "code",
   "execution_count": 215,
   "metadata": {},
   "outputs": [],
   "source": [
    "mu_lambda = np.linspace(0, 10, 100)\n",
    "sig_lambda = 2"
   ]
  },
  {
   "cell_type": "code",
   "execution_count": 216,
   "metadata": {},
   "outputs": [],
   "source": [
    "def selection_function(mu_lamb, sig_lamb, x_max):\n",
    "    \n",
    "    x = np.linspace(-10, 10, 1000)\n",
    "    detectability_function = (1/2) * ( 1 + erf((x_max - x) / np.sqrt(2)))\n",
    "    \n",
    "    alpha_lambda = []\n",
    "    for mu in mu_lamb:\n",
    "        prior_function = prior_x(x, mu, sig_lamb)\n",
    "        alpha_lambda.append(np.trapz(detectability_function * prior_function, x))\n",
    "        \n",
    "    return np.array(alpha_lambda)"
   ]
  },
  {
   "cell_type": "code",
   "execution_count": 217,
   "metadata": {},
   "outputs": [],
   "source": [
    "alpha_mu_lambda = selection_function(mu_lambda, sig_lambda, x_max)\n",
    "#alpha_mu_lambda"
   ]
  },
  {
   "cell_type": "code",
   "execution_count": 218,
   "metadata": {},
   "outputs": [
    {
     "data": {
      "image/png": "[encoded data removed]",
      "text/plain": [
       "<Figure size 432x288 with 1 Axes>"
      ]
     },
     "metadata": {
      "needs_background": "light"
     },
     "output_type": "display_data"
    }
   ],
   "source": [
    "plt.plot(mu_lambda, alpha_mu_lambda)\n",
    "plt.xlabel(r\"$\\mu_\\lambda$\")\n",
    "plt.ylabel(r\"$\\alpha(\\mu_\\lambda)$\")\n",
    "plt.grid()"
   ]
  },
  {
   "cell_type": "markdown",
   "metadata": {},
   "source": [
    "### Analytical hyper-posterior:"
   ]
  },
  {
   "cell_type": "code",
   "execution_count": 262,
   "metadata": {},
   "outputs": [],
   "source": [
    "def hyper_posterior(mu_lambda, sig_lambda, data, selection_function):\n",
    "    \n",
    "    N_trigger = len(data)\n",
    "    log_posterior = []\n",
    "    \n",
    "    for mu, alpha_lambda in zip(mu_lambda, selection_function):\n",
    "        exponent_argument = 0.0\n",
    "        for d in data:\n",
    "            exponent_argument += -(d - mu)**2 / (2 * (1 + sig_lambda**2)) \n",
    "            \n",
    "        log_posterior.append(exponent_argument - N_trigger*np.log(alpha_lambda))\n",
    "    \n",
    "    log_posterior = np.array(log_posterior)\n",
    "    #log_posterior = np.exp(log_posterior)#/max(abs(log_posterior))\n",
    "    return np.array(np.exp(log_posterior))"
   ]
  },
  {
   "cell_type": "markdown",
   "metadata": {},
   "source": [
    "### Estimating hyper posterior using detected data and selection effects:"
   ]
  },
  {
   "cell_type": "code",
   "execution_count": 278,
   "metadata": {},
   "outputs": [],
   "source": [
    "mu_lambda_posterior = hyper_posterior(mu_lambda, sig_lambda, xi, alpha_mu_lambda)"
   ]
  },
  {
   "cell_type": "code",
   "execution_count": 279,
   "metadata": {},
   "outputs": [
    {
     "data": {
      "text/plain": [
       "Text(0.5, 1.0, '$x_{max} = 5, \\\\mu_\\\\lambda^T = 4.3, \\\\sigma_\\\\lambda = 2$')"
      ]
     },
     "execution_count": 279,
     "metadata": {},
     "output_type": "execute_result"
    },
    {
     "data": {
      "image/png": "[encoded data removed]",
      "text/plain": [
       "<Figure size 720x504 with 1 Axes>"
      ]
     },
     "metadata": {
      "needs_background": "light"
     },
     "output_type": "display_data"
    }
   ],
   "source": [
    "plt.figure(figsize=(10,7))\n",
    "plt.plot(mu_lambda, mu_lambda_posterior/max(mu_lambda_posterior), label=\"Analytical hyper posterior\")\n",
    "plt.plot(mu_lambda, alpha_mu_lambda, label=\"selection function\")\n",
    "plt.axvline(x=mu_lambda_T, c='r', label=\"True hyper parameter\")\n",
    "plt.xlabel(\"$\\mu_\\lambda$\")\n",
    "plt.ylabel(\"$ p(\\mu_\\lambda|D)$\")\n",
    "plt.legend(loc='best')\n",
    "plt.grid()\n",
    "plt.title(\"$x_{max} = 5, \\mu_\\lambda^T = 4.3, \\sigma_\\lambda = 2$\")"
   ]
  },
  {
   "cell_type": "code",
   "execution_count": null,
   "metadata": {},
   "outputs": [],
   "source": []
  }
 ],
 "metadata": {
  "kernelspec": {
   "display_name": "Python 3",
   "language": "python",
   "name": "python3"
  },
  "language_info": {
   "codemirror_mode": {
    "name": "ipython",
    "version": 3
   },
   "file_extension": ".py",
   "mimetype": "text/x-python",
   "name": "python",
   "nbconvert_exporter": "python",
   "pygments_lexer": "ipython3",
   "version": "3.7.9"
  },
  "latex_envs": {
   "LaTeX_envs_menu_present": true,
   "autoclose": false,
   "autocomplete": true,
   "bibliofile": "biblio.bib",
   "cite_by": "apalike",
   "current_citInitial": 1,
   "eqLabelWithNumbers": true,
   "eqNumInitial": 1,
   "hotkeys": {
    "equation": "Ctrl-E",
    "itemize": "Ctrl-I"
   },
   "labels_anchors": false,
   "latex_user_defs": false,
   "report_style_numbering": false,
   "user_envs_cfg": false
  }
 },
 "nbformat": 4,
 "nbformat_minor": 4
}
